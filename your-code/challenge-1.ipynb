{
 "cells": [
  {
   "cell_type": "markdown",
   "id": "b25842d6",
   "metadata": {},
   "source": [
    "# Import the necessary libraries: pandas & requests"
   ]
  },
  {
   "cell_type": "code",
   "execution_count": 144,
   "id": "215eb6bc",
   "metadata": {},
   "outputs": [],
   "source": [
    "import pandas as pd\n",
    "import requests\n",
    "import json\n",
    "import os\n",
    "from pandas import json_normalize\n",
    "from datetime import datetime"
   ]
  },
  {
   "cell_type": "markdown",
   "id": "416a4caf",
   "metadata": {},
   "source": [
    "# Go on to this website: `https://kinduff.github.io/dog-api/`. Read the docs. "
   ]
  },
  {
   "cell_type": "markdown",
   "id": "bb949a18",
   "metadata": {},
   "source": [
    "## Build the `url_for_request`. This will be the result of: reading the docs 🙃. "
   ]
  },
  {
   "cell_type": "markdown",
   "id": "543e6c0d",
   "metadata": {},
   "source": [
    "Hint: there's a `base_url` to which you need to add another `endpoint`. Call the resulting string `url_for_request`"
   ]
  },
  {
   "cell_type": "code",
   "execution_count": 145,
   "id": "8c147eb7",
   "metadata": {},
   "outputs": [
    {
     "data": {
      "text/plain": [
       "'http://dog-api.kinduff.com/api/facts'"
      ]
     },
     "execution_count": 145,
     "metadata": {},
     "output_type": "execute_result"
    }
   ],
   "source": [
    "url = \"http://dog-api.kinduff.com\"\n",
    "url = url + \"/api/facts\"\n",
    "url"
   ]
  },
  {
   "cell_type": "markdown",
   "id": "c5f33f0f",
   "metadata": {},
   "source": [
    "# Do one request using the `url_for_request`. Make sure it's read as a json."
   ]
  },
  {
   "cell_type": "code",
   "execution_count": 153,
   "id": "311d0c28",
   "metadata": {},
   "outputs": [
    {
     "data": {
      "text/plain": [
       "{'facts': ['The oldest known breed is likely the Saluki, originally trained by Egyptians to help them track game.'],\n",
       " 'success': True}"
      ]
     },
     "execution_count": 153,
     "metadata": {},
     "output_type": "execute_result"
    }
   ],
   "source": [
    "res = requests.get(url).json()\n",
    "res"
   ]
  },
  {
   "cell_type": "markdown",
   "id": "1bfb3a80",
   "metadata": {},
   "source": [
    "# Great! Now: encapsulate"
   ]
  },
  {
   "cell_type": "markdown",
   "id": "d72434d8",
   "metadata": {},
   "source": [
    "- Create a function whith the name: `request_dog_facts`\n",
    "- It should not take any argument\n",
    "- It should return one dictionary with the information requested\n"
   ]
  },
  {
   "cell_type": "code",
   "execution_count": 164,
   "id": "e7dc2129",
   "metadata": {},
   "outputs": [
    {
     "data": {
      "text/plain": [
       "{'facts': ['Many foot disorders in dogs are caused by long toenails.'],\n",
       " 'success': True}"
      ]
     },
     "execution_count": 164,
     "metadata": {},
     "output_type": "execute_result"
    }
   ],
   "source": [
    "def request_dog_facts():\n",
    "    url = 'http://dog-api.kinduff.com/api/facts'\n",
    "    res = requests.get(url).json()\n",
    "    return res\n",
    "request_dog_facts()"
   ]
  },
  {
   "cell_type": "markdown",
   "id": "5c01f4ce",
   "metadata": {},
   "source": [
    "# APIs may be faulty when requesting many times: make sure you implement a try & except to cover for that."
   ]
  },
  {
   "cell_type": "markdown",
   "id": "ae0d7596",
   "metadata": {},
   "source": [
    "If the request doesn't work, make sure you return a message"
   ]
  },
  {
   "cell_type": "code",
   "execution_count": 166,
   "id": "9263e7c8",
   "metadata": {},
   "outputs": [
    {
     "data": {
      "text/plain": [
       "{'facts': ['When \"Bobbie,\" a Collie/Shepherd mix, was accidentally abandoned on a family vacation, he traveled 2,551 miles over six months to return to his home.'],\n",
       " 'success': True}"
      ]
     },
     "execution_count": 166,
     "metadata": {},
     "output_type": "execute_result"
    }
   ],
   "source": [
    "def request_dog_facts():\n",
    "    try:  \n",
    "        url = 'http://dog-api.kinduff.com/api/facts'\n",
    "        return requests.get(url).json()\n",
    "    except Error:\n",
    "        print (\"too many resquests, exceeding what the API allows\")\n",
    "    \n",
    "request_dog_facts()"
   ]
  },
  {
   "cell_type": "markdown",
   "id": "b201a536",
   "metadata": {},
   "source": [
    "# We now want to get as the day of the month today: eg.: if current month is october we'll make 10  requests"
   ]
  },
  {
   "cell_type": "markdown",
   "id": "b9ee1515",
   "metadata": {},
   "source": [
    "Create a variable called `current_month`. Using the imported library in the first cell, save today's day."
   ]
  },
  {
   "cell_type": "code",
   "execution_count": 167,
   "id": "1e7947fe",
   "metadata": {},
   "outputs": [
    {
     "data": {
      "text/plain": [
       "10"
      ]
     },
     "execution_count": 167,
     "metadata": {},
     "output_type": "execute_result"
    }
   ],
   "source": [
    "current_month = datetime.today().month\n",
    "current_month\n",
    "requests_as_mont_number=[request_dog_facts() for i in range(current_month)]\n",
    "len(requests_as_mont_number)"
   ]
  },
  {
   "cell_type": "markdown",
   "id": "79f81f5f",
   "metadata": {},
   "source": [
    "# If `todays_date` is 27, create a list with 27 dictionaries reusing the function you just created: `request_dog_facts`. List should be called: `dogs_facts`. Do this using a comprehension list"
   ]
  },
  {
   "cell_type": "code",
   "execution_count": 168,
   "id": "731959ec",
   "metadata": {},
   "outputs": [
    {
     "data": {
      "text/plain": [
       "27"
      ]
     },
     "execution_count": 168,
     "metadata": {},
     "output_type": "execute_result"
    }
   ],
   "source": [
    "dog_facts=[request_dog_facts() for i in range(datetime.today().day)]\n",
    "len(dog_facts)"
   ]
  },
  {
   "cell_type": "markdown",
   "id": "ec3a47d4",
   "metadata": {},
   "source": [
    "# Build a DF. You have a list of dictionaries, should be easy!"
   ]
  },
  {
   "cell_type": "code",
   "execution_count": 169,
   "id": "d22652ed",
   "metadata": {},
   "outputs": [
    {
     "data": {
      "text/html": [
       "<div>\n",
       "<style scoped>\n",
       "    .dataframe tbody tr th:only-of-type {\n",
       "        vertical-align: middle;\n",
       "    }\n",
       "\n",
       "    .dataframe tbody tr th {\n",
       "        vertical-align: top;\n",
       "    }\n",
       "\n",
       "    .dataframe thead th {\n",
       "        text-align: right;\n",
       "    }\n",
       "</style>\n",
       "<table border=\"1\" class=\"dataframe\">\n",
       "  <thead>\n",
       "    <tr style=\"text-align: right;\">\n",
       "      <th></th>\n",
       "      <th>facts</th>\n",
       "      <th>success</th>\n",
       "    </tr>\n",
       "  </thead>\n",
       "  <tbody>\n",
       "    <tr>\n",
       "      <th>0</th>\n",
       "      <td>[Some stray Russian dogs have figured out how ...</td>\n",
       "      <td>True</td>\n",
       "    </tr>\n",
       "    <tr>\n",
       "      <th>1</th>\n",
       "      <td>[Dogs can learn more than 1000 words.]</td>\n",
       "      <td>True</td>\n",
       "    </tr>\n",
       "    <tr>\n",
       "      <th>2</th>\n",
       "      <td>[The Basenji is the only barkless dog.]</td>\n",
       "      <td>True</td>\n",
       "    </tr>\n",
       "    <tr>\n",
       "      <th>3</th>\n",
       "      <td>[The St. Bernard is the heaviest dog breed.]</td>\n",
       "      <td>True</td>\n",
       "    </tr>\n",
       "    <tr>\n",
       "      <th>4</th>\n",
       "      <td>[When Lord Byron was informed that his dog was...</td>\n",
       "      <td>True</td>\n",
       "    </tr>\n",
       "    <tr>\n",
       "      <th>5</th>\n",
       "      <td>[It is not possible to know how many puppies a...</td>\n",
       "      <td>True</td>\n",
       "    </tr>\n",
       "    <tr>\n",
       "      <th>6</th>\n",
       "      <td>[Dogs don't enjoy being hugged as much as huma...</td>\n",
       "      <td>True</td>\n",
       "    </tr>\n",
       "    <tr>\n",
       "      <th>7</th>\n",
       "      <td>[Chow Chows are born with pink tongues, which ...</td>\n",
       "      <td>True</td>\n",
       "    </tr>\n",
       "    <tr>\n",
       "      <th>8</th>\n",
       "      <td>[There are nearly 14,000 animal shelters and r...</td>\n",
       "      <td>True</td>\n",
       "    </tr>\n",
       "    <tr>\n",
       "      <th>9</th>\n",
       "      <td>[A German Shepherd named Orient accompanied he...</td>\n",
       "      <td>True</td>\n",
       "    </tr>\n",
       "    <tr>\n",
       "      <th>10</th>\n",
       "      <td>[One survey reports that 33% of dog owners adm...</td>\n",
       "      <td>True</td>\n",
       "    </tr>\n",
       "    <tr>\n",
       "      <th>11</th>\n",
       "      <td>[About one-third of a dog’s brain is dedicated...</td>\n",
       "      <td>True</td>\n",
       "    </tr>\n",
       "    <tr>\n",
       "      <th>12</th>\n",
       "      <td>[There are nearly 14,000 animal shelters and r...</td>\n",
       "      <td>True</td>\n",
       "    </tr>\n",
       "    <tr>\n",
       "      <th>13</th>\n",
       "      <td>[Service dogs are recognized in the U.S. as \"n...</td>\n",
       "      <td>True</td>\n",
       "    </tr>\n",
       "    <tr>\n",
       "      <th>14</th>\n",
       "      <td>[In 1969, Lassie was the first animal inducted...</td>\n",
       "      <td>True</td>\n",
       "    </tr>\n",
       "    <tr>\n",
       "      <th>15</th>\n",
       "      <td>[Americans love dogs! 44% of U.S. households h...</td>\n",
       "      <td>True</td>\n",
       "    </tr>\n",
       "    <tr>\n",
       "      <th>16</th>\n",
       "      <td>[A dog's average body temperature is 101.2 deg...</td>\n",
       "      <td>True</td>\n",
       "    </tr>\n",
       "    <tr>\n",
       "      <th>17</th>\n",
       "      <td>[Fifteen people die in the U.S. every year fro...</td>\n",
       "      <td>True</td>\n",
       "    </tr>\n",
       "    <tr>\n",
       "      <th>18</th>\n",
       "      <td>[As Disney's Cruella De Vil was aware, Dalmati...</td>\n",
       "      <td>True</td>\n",
       "    </tr>\n",
       "    <tr>\n",
       "      <th>19</th>\n",
       "      <td>[One of the most famous Labrador Retrievers wa...</td>\n",
       "      <td>True</td>\n",
       "    </tr>\n",
       "    <tr>\n",
       "      <th>20</th>\n",
       "      <td>[Puppies love games such as hide and seek! Hid...</td>\n",
       "      <td>True</td>\n",
       "    </tr>\n",
       "    <tr>\n",
       "      <th>21</th>\n",
       "      <td>[In Croatia, scientists discovered that lamppo...</td>\n",
       "      <td>True</td>\n",
       "    </tr>\n",
       "    <tr>\n",
       "      <th>22</th>\n",
       "      <td>[Bloodhounds are prized for their ability to s...</td>\n",
       "      <td>True</td>\n",
       "    </tr>\n",
       "    <tr>\n",
       "      <th>23</th>\n",
       "      <td>[Some stray Russian dogs have figured out how ...</td>\n",
       "      <td>True</td>\n",
       "    </tr>\n",
       "    <tr>\n",
       "      <th>24</th>\n",
       "      <td>[Dogs judge objects first by their movement, t...</td>\n",
       "      <td>True</td>\n",
       "    </tr>\n",
       "    <tr>\n",
       "      <th>25</th>\n",
       "      <td>[Dogs are natural pack animals.]</td>\n",
       "      <td>True</td>\n",
       "    </tr>\n",
       "    <tr>\n",
       "      <th>26</th>\n",
       "      <td>[The oldest dog on record was an Australian ca...</td>\n",
       "      <td>True</td>\n",
       "    </tr>\n",
       "  </tbody>\n",
       "</table>\n",
       "</div>"
      ],
      "text/plain": [
       "                                                facts  success\n",
       "0   [Some stray Russian dogs have figured out how ...     True\n",
       "1              [Dogs can learn more than 1000 words.]     True\n",
       "2             [The Basenji is the only barkless dog.]     True\n",
       "3        [The St. Bernard is the heaviest dog breed.]     True\n",
       "4   [When Lord Byron was informed that his dog was...     True\n",
       "5   [It is not possible to know how many puppies a...     True\n",
       "6   [Dogs don't enjoy being hugged as much as huma...     True\n",
       "7   [Chow Chows are born with pink tongues, which ...     True\n",
       "8   [There are nearly 14,000 animal shelters and r...     True\n",
       "9   [A German Shepherd named Orient accompanied he...     True\n",
       "10  [One survey reports that 33% of dog owners adm...     True\n",
       "11  [About one-third of a dog’s brain is dedicated...     True\n",
       "12  [There are nearly 14,000 animal shelters and r...     True\n",
       "13  [Service dogs are recognized in the U.S. as \"n...     True\n",
       "14  [In 1969, Lassie was the first animal inducted...     True\n",
       "15  [Americans love dogs! 44% of U.S. households h...     True\n",
       "16  [A dog's average body temperature is 101.2 deg...     True\n",
       "17  [Fifteen people die in the U.S. every year fro...     True\n",
       "18  [As Disney's Cruella De Vil was aware, Dalmati...     True\n",
       "19  [One of the most famous Labrador Retrievers wa...     True\n",
       "20  [Puppies love games such as hide and seek! Hid...     True\n",
       "21  [In Croatia, scientists discovered that lamppo...     True\n",
       "22  [Bloodhounds are prized for their ability to s...     True\n",
       "23  [Some stray Russian dogs have figured out how ...     True\n",
       "24  [Dogs judge objects first by their movement, t...     True\n",
       "25                   [Dogs are natural pack animals.]     True\n",
       "26  [The oldest dog on record was an Australian ca...     True"
      ]
     },
     "execution_count": 169,
     "metadata": {},
     "output_type": "execute_result"
    }
   ],
   "source": [
    "# Your code here\n",
    "df = pd.DataFrame(dog_facts)\n",
    "df"
   ]
  },
  {
   "cell_type": "markdown",
   "id": "9f401ae3",
   "metadata": {},
   "source": [
    "# Modify the previous table, using a lambda function, so you modify the column data to have the same column but with the element instead of the list with that one element"
   ]
  },
  {
   "cell_type": "code",
   "execution_count": 175,
   "id": "b29f4826",
   "metadata": {},
   "outputs": [
    {
     "data": {
      "text/html": [
       "<div>\n",
       "<style scoped>\n",
       "    .dataframe tbody tr th:only-of-type {\n",
       "        vertical-align: middle;\n",
       "    }\n",
       "\n",
       "    .dataframe tbody tr th {\n",
       "        vertical-align: top;\n",
       "    }\n",
       "\n",
       "    .dataframe thead th {\n",
       "        text-align: right;\n",
       "    }\n",
       "</style>\n",
       "<table border=\"1\" class=\"dataframe\">\n",
       "  <thead>\n",
       "    <tr style=\"text-align: right;\">\n",
       "      <th></th>\n",
       "      <th>facts</th>\n",
       "      <th>success</th>\n",
       "    </tr>\n",
       "  </thead>\n",
       "  <tbody>\n",
       "    <tr>\n",
       "      <th>0</th>\n",
       "      <td>Dog nose prints are as unique as human finger ...</td>\n",
       "      <td>True</td>\n",
       "    </tr>\n",
       "    <tr>\n",
       "      <th>1</th>\n",
       "      <td>When dogs were evolving, bone marrow could som...</td>\n",
       "      <td>True</td>\n",
       "    </tr>\n",
       "    <tr>\n",
       "      <th>2</th>\n",
       "      <td>With love and a little patience, dogs can lear...</td>\n",
       "      <td>True</td>\n",
       "    </tr>\n",
       "    <tr>\n",
       "      <th>3</th>\n",
       "      <td>Ancient Egyptians revered their dogs. When a p...</td>\n",
       "      <td>True</td>\n",
       "    </tr>\n",
       "    <tr>\n",
       "      <th>4</th>\n",
       "      <td>It’s not so black and white. It’s a myth that ...</td>\n",
       "      <td>True</td>\n",
       "    </tr>\n",
       "    <tr>\n",
       "      <th>5</th>\n",
       "      <td>An African wolf dog known as the Basenji is th...</td>\n",
       "      <td>True</td>\n",
       "    </tr>\n",
       "    <tr>\n",
       "      <th>6</th>\n",
       "      <td>Hyenas aren't actually dogs. They are more clo...</td>\n",
       "      <td>True</td>\n",
       "    </tr>\n",
       "    <tr>\n",
       "      <th>7</th>\n",
       "      <td>Endal was the first dog to ride on the London ...</td>\n",
       "      <td>True</td>\n",
       "    </tr>\n",
       "    <tr>\n",
       "      <th>8</th>\n",
       "      <td>A bloodhound named Tigger holds the record for...</td>\n",
       "      <td>True</td>\n",
       "    </tr>\n",
       "    <tr>\n",
       "      <th>9</th>\n",
       "      <td>Bloodhounds are prized for their ability to si...</td>\n",
       "      <td>True</td>\n",
       "    </tr>\n",
       "  </tbody>\n",
       "</table>\n",
       "</div>"
      ],
      "text/plain": [
       "                                               facts  success\n",
       "0  Dog nose prints are as unique as human finger ...     True\n",
       "1  When dogs were evolving, bone marrow could som...     True\n",
       "2  With love and a little patience, dogs can lear...     True\n",
       "3  Ancient Egyptians revered their dogs. When a p...     True\n",
       "4  It’s not so black and white. It’s a myth that ...     True\n",
       "5  An African wolf dog known as the Basenji is th...     True\n",
       "6  Hyenas aren't actually dogs. They are more clo...     True\n",
       "7  Endal was the first dog to ride on the London ...     True\n",
       "8  A bloodhound named Tigger holds the record for...     True\n",
       "9  Bloodhounds are prized for their ability to si...     True"
      ]
     },
     "execution_count": 175,
     "metadata": {},
     "output_type": "execute_result"
    }
   ],
   "source": [
    "# Your code here\n",
    "df['facts'] = df['facts'].apply(lambda x: \"\".join(x))\n",
    "df"
   ]
  },
  {
   "cell_type": "markdown",
   "id": "d3fb564c",
   "metadata": {},
   "source": [
    "# Save the dataframe into the data folder. "
   ]
  },
  {
   "cell_type": "markdown",
   "id": "2b334e3d",
   "metadata": {},
   "source": [
    "Make sure you don't get that unnamed: 0 column. Hint: https://stackoverflow.com/questions/36519086/how-to-get-rid-of-unnamed-0-column-in-a-pandas-dataframe-read-in-from-csv-fil"
   ]
  },
  {
   "cell_type": "code",
   "execution_count": 177,
   "id": "ca21a372",
   "metadata": {},
   "outputs": [],
   "source": [
    "data_folder_path = '../data/'\n",
    "csv_filename = 'fact_dogs.csv'\n",
    "full_path = data_folder_path + csv_filename\n",
    "df.to_csv(full_path, index=False)"
   ]
  }
 ],
 "metadata": {
  "kernelspec": {
   "display_name": "ironhack",
   "language": "python",
   "name": "ironhack"
  },
  "language_info": {
   "codemirror_mode": {
    "name": "ipython",
    "version": 3
   },
   "file_extension": ".py",
   "mimetype": "text/x-python",
   "name": "python",
   "nbconvert_exporter": "python",
   "pygments_lexer": "ipython3",
   "version": "3.11.5"
  },
  "nbTranslate": {
   "displayLangs": [
    "en",
    "es"
   ],
   "hotkey": "alt-a",
   "langInMainMenu": true,
   "sourceLang": "es",
   "targetLang": "en",
   "useGoogleTranslate": true
  },
  "toc": {
   "base_numbering": 1,
   "nav_menu": {},
   "number_sections": true,
   "sideBar": true,
   "skip_h1_title": false,
   "title_cell": "Table of Contents",
   "title_sidebar": "Contents",
   "toc_cell": false,
   "toc_position": {},
   "toc_section_display": true,
   "toc_window_display": false
  }
 },
 "nbformat": 4,
 "nbformat_minor": 5
}
